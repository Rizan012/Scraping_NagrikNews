{
 "cells": [
  {
   "cell_type": "code",
   "execution_count": 95,
   "id": "55271ed4-459a-4095-92a5-36c1ebbfe311",
   "metadata": {},
   "outputs": [],
   "source": [
    "import requests\n",
    "from bs4 import BeautifulSoup\n",
    "import pandas as pd"
   ]
  },
  {
   "cell_type": "code",
   "execution_count": 96,
   "id": "f2b03d00-d0e2-49c4-a21f-584d632a37c9",
   "metadata": {},
   "outputs": [],
   "source": [
    "url = \"https://nagariknews.nagariknetwork.com/opinion\""
   ]
  },
  {
   "cell_type": "code",
   "execution_count": 97,
   "id": "a347ca5d-902b-470e-be13-efff61ec1328",
   "metadata": {},
   "outputs": [],
   "source": [
    "res = requests.get(url)"
   ]
  },
  {
   "cell_type": "code",
   "execution_count": 98,
   "id": "76e47169-3ede-4777-ad2d-2bc263f6360c",
   "metadata": {},
   "outputs": [
    {
     "data": {
      "text/plain": [
       "<Response [200]>"
      ]
     },
     "execution_count": 98,
     "metadata": {},
     "output_type": "execute_result"
    }
   ],
   "source": [
    "res"
   ]
  },
  {
   "cell_type": "code",
   "execution_count": 99,
   "id": "35e8c70b-b8d9-4a46-a074-e7c6fc225bf1",
   "metadata": {},
   "outputs": [],
   "source": [
    "soup = BeautifulSoup(res.text,\"html.parser\")"
   ]
  },
  {
   "cell_type": "code",
   "execution_count": 100,
   "id": "c1f34152-7dd7-4f4f-954e-63d033e09bd3",
   "metadata": {},
   "outputs": [],
   "source": [
    "articles = soup.find_all(\"article\",class_=\"list-group-item\")"
   ]
  },
  {
   "cell_type": "code",
   "execution_count": 101,
   "id": "6eba1d7e-a892-4c91-a5df-faec875a3e2a",
   "metadata": {},
   "outputs": [],
   "source": [
    "links = []\n",
    "titles = []"
   ]
  },
  {
   "cell_type": "code",
   "execution_count": 102,
   "id": "11876722-b097-4224-ace7-b6e4fddcbadd",
   "metadata": {},
   "outputs": [],
   "source": [
    "for article in articles:\n",
    "    titles.append(article.find(\"a\")[\"title\"])\n",
    "    links.append(article.find(\"a\")[\"href\"])"
   ]
  },
  {
   "cell_type": "code",
   "execution_count": 103,
   "id": "d83f476f-d277-40bb-ad13-b30daae07543",
   "metadata": {},
   "outputs": [
    {
     "data": {
      "text/plain": [
       "['गुठी समस्याको गन्तव्य',\n",
       " 'मधेसी दलको निकटताः विवेक कि बाध्यता?',\n",
       " 'यहाँ देशको छ चिन्ता!',\n",
       " 'प्रदेश सरकारको पक्षपात',\n",
       " 'अभिव्यक्ति हरण गर्दै भजनमण्डलीको खोजी',\n",
       " 'मानसिक तनावबाट यसरी बच्ने',\n",
       " 'उपचारमा विज्ञानसँगै अध्यात्म',\n",
       " 'देश किन बनेन प्रधानमन्त्रीज्यू ?',\n",
       " 'आँधीअघिको सन्नाटा',\n",
       " 'गाउँ बचाउने बेला',\n",
       " 'कसरी उपयोग गर्ने खेर जाने बिजुली?',\n",
       " 'मधेसी पालिकामा दलितको हैसियत',\n",
       " 'कसले सुनिदिने नाकाबासीको पीडा?',\n",
       " 'अब सरकारी होइन राष्ट्रिय सञ्चार माध्यम',\n",
       " 'नखाएको विष लागेका बेला',\n",
       " 'नेतृत्वको भुलभुलैया',\n",
       " 'रङ्गीविरङ्गी राजनीतिक नेतृत्व',\n",
       " 'सहिद भूमिमा लोकतन्त्रको साख',\n",
       " 'नुन र मुटु रोगको सम्बन्ध',\n",
       " 'जब गीतसँगै देश रुन्छ',\n",
       " 'श्रीलंकामा वैकल्पिक शासनको चुनौती',\n",
       " 'अराजकताको उपचार हो अध्यात्म',\n",
       " 'राहत नदिने सहकारी अध्यादेश',\n",
       " 'त्रिपाठी हमलाविरूद्ध किन मौन रवि?']"
      ]
     },
     "execution_count": 103,
     "metadata": {},
     "output_type": "execute_result"
    }
   ],
   "source": [
    "titles"
   ]
  },
  {
   "cell_type": "code",
   "execution_count": 104,
   "id": "115d13a0-057b-44ba-9b81-1c7ae7cf52f9",
   "metadata": {},
   "outputs": [],
   "source": [
    "new_links = [(url.split(\"/opinion\")[0])+link for link in links]"
   ]
  },
  {
   "cell_type": "code",
   "execution_count": 105,
   "id": "7c9baa3e-acc4-45da-afa4-d97c9a4b2d71",
   "metadata": {},
   "outputs": [
    {
     "data": {
      "text/plain": [
       "24"
      ]
     },
     "execution_count": 105,
     "metadata": {},
     "output_type": "execute_result"
    }
   ],
   "source": [
    "len(new_links)"
   ]
  },
  {
   "cell_type": "code",
   "execution_count": 106,
   "id": "36821161-6f6c-4376-a9de-6a82c48293c5",
   "metadata": {},
   "outputs": [
    {
     "data": {
      "text/plain": [
       "24"
      ]
     },
     "execution_count": 106,
     "metadata": {},
     "output_type": "execute_result"
    }
   ],
   "source": [
    "len(titles)"
   ]
  },
  {
   "cell_type": "code",
   "execution_count": 107,
   "id": "f2856a35-9c24-4b97-85f8-25754556501a",
   "metadata": {},
   "outputs": [],
   "source": [
    "data = pd.DataFrame({\"Title\":titles,\"Link\":new_links})"
   ]
  },
  {
   "cell_type": "code",
   "execution_count": 108,
   "id": "ebbe7b41-b3f6-4f8b-8bb4-0071b2f46fec",
   "metadata": {},
   "outputs": [
    {
     "data": {
      "text/html": [
       "<div>\n",
       "<style scoped>\n",
       "    .dataframe tbody tr th:only-of-type {\n",
       "        vertical-align: middle;\n",
       "    }\n",
       "\n",
       "    .dataframe tbody tr th {\n",
       "        vertical-align: top;\n",
       "    }\n",
       "\n",
       "    .dataframe thead th {\n",
       "        text-align: right;\n",
       "    }\n",
       "</style>\n",
       "<table border=\"1\" class=\"dataframe\">\n",
       "  <thead>\n",
       "    <tr style=\"text-align: right;\">\n",
       "      <th></th>\n",
       "      <th>Title</th>\n",
       "      <th>Link</th>\n",
       "    </tr>\n",
       "  </thead>\n",
       "  <tbody>\n",
       "    <tr>\n",
       "      <th>0</th>\n",
       "      <td>गुठी समस्याको गन्तव्य</td>\n",
       "      <td>https://nagariknews.nagariknetwork.com/opinion...</td>\n",
       "    </tr>\n",
       "    <tr>\n",
       "      <th>1</th>\n",
       "      <td>मधेसी दलको निकटताः विवेक कि बाध्यता?</td>\n",
       "      <td>https://nagariknews.nagariknetwork.com/opinion...</td>\n",
       "    </tr>\n",
       "    <tr>\n",
       "      <th>2</th>\n",
       "      <td>यहाँ देशको छ चिन्ता!</td>\n",
       "      <td>https://nagariknews.nagariknetwork.com/opinion...</td>\n",
       "    </tr>\n",
       "    <tr>\n",
       "      <th>3</th>\n",
       "      <td>प्रदेश सरकारको पक्षपात</td>\n",
       "      <td>https://nagariknews.nagariknetwork.com/opinion...</td>\n",
       "    </tr>\n",
       "    <tr>\n",
       "      <th>4</th>\n",
       "      <td>अभिव्यक्ति हरण गर्दै भजनमण्डलीको खोजी</td>\n",
       "      <td>https://nagariknews.nagariknetwork.com/opinion...</td>\n",
       "    </tr>\n",
       "  </tbody>\n",
       "</table>\n",
       "</div>"
      ],
      "text/plain": [
       "                                   Title  \\\n",
       "0                  गुठी समस्याको गन्तव्य   \n",
       "1   मधेसी दलको निकटताः विवेक कि बाध्यता?   \n",
       "2                   यहाँ देशको छ चिन्ता!   \n",
       "3                 प्रदेश सरकारको पक्षपात   \n",
       "4  अभिव्यक्ति हरण गर्दै भजनमण्डलीको खोजी   \n",
       "\n",
       "                                                Link  \n",
       "0  https://nagariknews.nagariknetwork.com/opinion...  \n",
       "1  https://nagariknews.nagariknetwork.com/opinion...  \n",
       "2  https://nagariknews.nagariknetwork.com/opinion...  \n",
       "3  https://nagariknews.nagariknetwork.com/opinion...  \n",
       "4  https://nagariknews.nagariknetwork.com/opinion...  "
      ]
     },
     "execution_count": 108,
     "metadata": {},
     "output_type": "execute_result"
    }
   ],
   "source": [
    "data.head()"
   ]
  },
  {
   "cell_type": "code",
   "execution_count": 109,
   "id": "1f59764d-83a8-44f2-82c4-bf2d68514a13",
   "metadata": {},
   "outputs": [
    {
     "data": {
      "text/plain": [
       "'https://nagariknews.nagariknetwork.com/opinion/1464100-1738889761.html'"
      ]
     },
     "execution_count": 109,
     "metadata": {},
     "output_type": "execute_result"
    }
   ],
   "source": [
    "new_links[0]"
   ]
  },
  {
   "cell_type": "code",
   "execution_count": 113,
   "id": "978072ad-813d-48d5-96c4-528930b8a4e6",
   "metadata": {},
   "outputs": [],
   "source": [
    "i = 1\n",
    "for link in new_links:\n",
    "    response  = requests.get(link)\n",
    "    soup1 = BeautifulSoup(response.text,\"html.parser\")\n",
    "    if response:\n",
    "        span = soup1.find(\"span\",class_=\"subscriber-content-check\")\n",
    "        paras = span.find_all(\"p\")\n",
    "        text = \"\"\n",
    "        for para in paras:\n",
    "            text = text+para.text\n",
    "        with open(f\"Output/output{i}.txt\", \"w\", encoding=\"utf-8\") as file:\n",
    "            file.write(text)\n",
    "            i += 1"
   ]
  },
  {
   "cell_type": "raw",
   "id": "e370b033-7fa4-4bba-9e48-b2871b227730",
   "metadata": {},
   "source": [
    "\n",
    "    response  = requests.get(new_links[0])\n",
    "    soup1 = BeautifulSoup(response.text,\"html.parser\")\n",
    "    if response:\n",
    "        span = soup1.find(\"span\",class_=\"subscriber-content-check\")\n",
    "        ps = span.find_all(\"p\")\n",
    "        "
   ]
  },
  {
   "cell_type": "raw",
   "id": "7a42c0cc-6e13-4988-9058-677b5e2bd02c",
   "metadata": {},
   "source": [
    "text=\"\"\n",
    "for p in ps:\n",
    "    text = text+p.text"
   ]
  },
  {
   "cell_type": "raw",
   "id": "9c795e5d-e30d-425a-b7fd-1da1349de576",
   "metadata": {},
   "source": [
    "text"
   ]
  },
  {
   "cell_type": "code",
   "execution_count": null,
   "id": "8e438e9e-64b1-4966-b409-00b111e829e7",
   "metadata": {},
   "outputs": [],
   "source": []
  }
 ],
 "metadata": {
  "kernelspec": {
   "display_name": "Python (venv)",
   "language": "python",
   "name": "venv"
  },
  "language_info": {
   "codemirror_mode": {
    "name": "ipython",
    "version": 3
   },
   "file_extension": ".py",
   "mimetype": "text/x-python",
   "name": "python",
   "nbconvert_exporter": "python",
   "pygments_lexer": "ipython3",
   "version": "3.11.9"
  }
 },
 "nbformat": 4,
 "nbformat_minor": 5
}
